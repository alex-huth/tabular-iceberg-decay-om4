{
 "cells": [
  {
   "cell_type": "code",
   "execution_count": 1,
   "id": "3f46fc00",
   "metadata": {},
   "outputs": [
    {
     "name": "stderr",
     "output_type": "stream",
     "text": [
      "/net/Alexander.Huth/miniconda3/envs/gfdl/lib/python3.8/site-packages/gfdlvitals/diags/amoc.py:7: UserWarning: Could not load xoverturning.\n",
      "  warnings.warn(\"Could not load xoverturning.\")\n"
     ]
    }
   ],
   "source": [
    "#!conda activate gfdl\n",
    "import xarray as xr\n",
    "import numpy as np\n",
    "import matplotlib.pylab as plt\n",
    "import matplotlib.dates as mdates\n",
    "import matplotlib.path as mpath\n",
    "import cartopy.crs as ccrs\n",
    "import xesmf\n",
    "import pandas as pd\n",
    "import netCDF4 as nc\n",
    "import gfdlvitals\n",
    "import matplotlib.pyplot as plt\n",
    "import os\n",
    "import pandas as pd\n",
    "from matplotlib.figure import figaspect"
   ]
  },
  {
   "cell_type": "code",
   "execution_count": 2,
   "id": "751681ab",
   "metadata": {},
   "outputs": [],
   "source": [
    "#FILES\n",
    "\n",
    "run1='e100_s.5_r/'\n",
    "run2='e100_s.5_nb_r/'\n",
    "run3='gladstone_bigg_r/'"
   ]
  },
  {
   "cell_type": "code",
   "execution_count": 3,
   "id": "0d5f1b41",
   "metadata": {
    "collapsed": true
   },
   "outputs": [
    {
     "name": "stdout",
     "output_type": "stream",
     "text": [
      "/net/Alexander.Huth/miniconda3/envs/gfdl/lib/python3.8/site-packages/gfdlvitals/diags/amoc.py:7: UserWarning: Could not load xoverturning.\n",
      "  warnings.warn(\"Could not load xoverturning.\")\n",
      "Dmgetting files ...\n",
      "Complete!\n",
      "Processing 19580101\n",
      "/net/Alexander.Huth/miniconda3/envs/gfdl/lib/python3.8/site-packages/gfdlvitals/diags/amoc.py:93: UserWarning: AMOC calculation requires ocean_static and ocean_annual_z\n",
      "  warnings.warn(\"AMOC calculation requires ocean_static and ocean_annual_z\")\n",
      "Processing 19590101\n",
      "Processing 19600101\n",
      "Processing 19610101\n",
      "Processing 19620101\n",
      "Processing 19630101\n",
      "Processing 19640101\n",
      "Processing 19650101\n",
      "Processing 19660101\n",
      "Processing 19670101\n",
      "Processing 19680101\n",
      "Processing 19690101\n",
      "Processing 19700101\n",
      "Processing 19710101\n",
      "Processing 19720101\n",
      "Processing 19730101\n",
      "Processing 19740101\n",
      "Processing 19750101\n",
      "Processing 19760101\n",
      "Processing 19770101\n",
      "Processing 19780101\n",
      "Processing 19790101\n",
      "Processing 19800101\n",
      "Processing 19810101\n",
      "Processing 19820101\n",
      "Processing 19830101\n",
      "Processing 19840101\n",
      "Processing 19850101\n",
      "Processing 19860101\n",
      "Processing 19870101\n",
      "Processing 19880101\n",
      "Processing 19890101\n",
      "Processing 19900101\n",
      "Processing 19910101\n",
      "Processing 19920101\n",
      "Processing 19930101\n",
      "Processing 19940101\n",
      "Processing 19950101\n",
      "Processing 19960101\n",
      "Processing 19970101\n",
      "Processing 19980101\n",
      "Processing 19990101\n",
      "Processing 20000101\n",
      "Processing 20010101\n",
      "Processing 20020101\n",
      "Processing 20030101\n",
      "Processing 20040101\n",
      "Processing 20050101\n",
      "Processing 20060101\n",
      "Processing 20070101\n",
      "Processing 20080101\n",
      "Processing 20090101\n",
      "Processing 20100101\n",
      "Processing 20110101\n",
      "Processing 20120101\n",
      "Processing 20130101\n",
      "Processing 20140101\n",
      "Processing 20150101\n",
      "Processing 20160101\n",
      "Processing 20170101\n",
      "/net/Alexander.Huth/miniconda3/envs/gfdl/lib/python3.8/site-packages/gfdlvitals/diags/amoc.py:7: UserWarning: Could not load xoverturning.\n",
      "  warnings.warn(\"Could not load xoverturning.\")\n",
      "Dmgetting files ...\n",
      "Complete!\n",
      "Processing 19580101\n",
      "/net/Alexander.Huth/miniconda3/envs/gfdl/lib/python3.8/site-packages/gfdlvitals/diags/amoc.py:93: UserWarning: AMOC calculation requires ocean_static and ocean_annual_z\n",
      "  warnings.warn(\"AMOC calculation requires ocean_static and ocean_annual_z\")\n",
      "Processing 19590101\n",
      "Processing 19600101\n",
      "Processing 19610101\n",
      "Processing 19620101\n",
      "Processing 19630101\n",
      "Processing 19640101\n",
      "Processing 19650101\n",
      "Processing 19660101\n",
      "Processing 19670101\n",
      "Processing 19680101\n",
      "Processing 19690101\n",
      "Processing 19700101\n",
      "Processing 19710101\n",
      "Processing 19720101\n",
      "Processing 19730101\n",
      "Processing 19740101\n",
      "Processing 19750101\n",
      "Processing 19760101\n",
      "Processing 19770101\n",
      "Processing 19780101\n",
      "Processing 19790101\n",
      "Processing 19800101\n",
      "Processing 19810101\n",
      "Processing 19820101\n",
      "Processing 19830101\n",
      "Processing 19840101\n",
      "Processing 19850101\n",
      "Processing 19860101\n",
      "Processing 19870101\n",
      "Processing 19880101\n",
      "Processing 19890101\n",
      "Processing 19900101\n",
      "Processing 19910101\n",
      "Processing 19920101\n",
      "Processing 19930101\n",
      "Processing 19940101\n",
      "Processing 19950101\n",
      "Processing 19960101\n",
      "Processing 19970101\n",
      "Processing 19980101\n",
      "Processing 19990101\n",
      "Processing 20000101\n",
      "Processing 20010101\n",
      "Processing 20020101\n",
      "Processing 20030101\n",
      "Processing 20040101\n",
      "Processing 20050101\n",
      "Processing 20060101\n",
      "Processing 20070101\n",
      "Processing 20080101\n",
      "Processing 20090101\n",
      "Processing 20100101\n",
      "Processing 20110101\n",
      "Processing 20120101\n",
      "Processing 20130101\n",
      "Processing 20140101\n",
      "Processing 20150101\n",
      "Processing 20160101\n",
      "Processing 20170101\n",
      "/net/Alexander.Huth/miniconda3/envs/gfdl/lib/python3.8/site-packages/gfdlvitals/diags/amoc.py:7: UserWarning: Could not load xoverturning.\n",
      "  warnings.warn(\"Could not load xoverturning.\")\n",
      "Dmgetting files ...\n",
      "Complete!\n",
      "Processing 19580101\n",
      "/net/Alexander.Huth/miniconda3/envs/gfdl/lib/python3.8/site-packages/gfdlvitals/diags/amoc.py:93: UserWarning: AMOC calculation requires ocean_static and ocean_annual_z\n",
      "  warnings.warn(\"AMOC calculation requires ocean_static and ocean_annual_z\")\n",
      "Processing 19590101\n",
      "Processing 19600101\n",
      "Processing 19610101\n",
      "Processing 19620101\n",
      "Processing 19630101\n",
      "Processing 19640101\n",
      "Processing 19650101\n",
      "Processing 19660101\n",
      "Processing 19670101\n",
      "Processing 19680101\n",
      "Processing 19690101\n",
      "Processing 19700101\n",
      "Processing 19710101\n",
      "Processing 19720101\n",
      "Processing 19730101\n",
      "Processing 19740101\n",
      "Processing 19750101\n",
      "Processing 19760101\n",
      "Processing 19770101\n",
      "Processing 19780101\n",
      "Processing 19790101\n",
      "Processing 19800101\n",
      "Processing 19810101\n",
      "Processing 19820101\n",
      "Processing 19830101\n",
      "Processing 19840101\n",
      "Processing 19850101\n",
      "Processing 19860101\n",
      "Processing 19870101\n",
      "Processing 19880101\n",
      "Processing 19890101\n",
      "Processing 19900101\n",
      "Processing 19910101\n",
      "Processing 19920101\n",
      "Processing 19930101\n",
      "Processing 19940101\n",
      "Processing 19950101\n",
      "Processing 19960101\n",
      "Processing 19970101\n",
      "Processing 19980101\n",
      "Processing 19990101\n",
      "Processing 20000101\n",
      "Processing 20010101\n",
      "Processing 20020101\n",
      "Processing 20030101\n",
      "Processing 20040101\n",
      "Processing 20050101\n",
      "Processing 20060101\n",
      "Processing 20070101\n",
      "Processing 20080101\n",
      "Processing 20090101\n",
      "Processing 20100101\n",
      "Processing 20110101\n",
      "Processing 20120101\n",
      "Processing 20130101\n",
      "Processing 20140101\n",
      "Processing 20150101\n",
      "Processing 20160101\n",
      "Processing 20170101\n"
     ]
    }
   ],
   "source": [
    "dir='/archive/aeh/FMS2019.01.03_mom6_2019.08.08'\n",
    "asciis='gfdl.ncrc3-intel18-prod/ascii'\n",
    "db_processed=True\n",
    "runvec=[run1,run2,run3]\n",
    "dirvec=[]\n",
    "if not db_processed:\n",
    "    for therun in runvec:\n",
    "        newdir = f'/archive/aeh/notebooks/data/{therun}';\n",
    "        dirvec.append(newdir)\n",
    "        if not os.path.isdir(newdir):\n",
    "            !mkdir {newdir}\n",
    "        tf=f'{dir}/{therun}/{asciis}';\n",
    "        !gfdlvitals -o {newdir} {tf}\n",
    "else:\n",
    "    for therun in runvec:\n",
    "        newdir = f'/archive/aeh/notebooks/data/{therun}';\n",
    "        dirvec.append(newdir) \n",
    "db_processed=True\n"
   ]
  },
  {
   "cell_type": "code",
   "execution_count": 4,
   "id": "5fe4eff1",
   "metadata": {},
   "outputs": [],
   "source": [
    "def convert_index_to_year(df):\n",
    "    year = df.index.tolist()\n",
    "    for cnt in range(len(year)):\n",
    "        year[cnt]=year[cnt].year\n",
    "    df.index=year\n",
    "    return df\n",
    "\n",
    "def open_bergstats(run):\n",
    "    file=f'/archive/aeh/notebooks/data/{run}'\n",
    "    dbf=f'{file}globalAveBergStats.db'\n",
    "    print('dbf:  ',dbf)\n",
    "    df = gfdlvitals.open_db(dbf)\n",
    "    df=convert_index_to_year(df)\n",
    "    return df\n",
    "\n",
    "def open_bergtiming(thedir):\n",
    "    dbf=f'{thedir}/globalAveTiming.db'\n",
    "    df = gfdlvitals.open_db(dbf)\n",
    "    df.drop(df.columns.difference(['Icebergs_max']), 1, inplace=True)\n",
    "    totsum=df.Icebergs_max.copy(); totsum=totsum/60.\n",
    "    for cnt in range(len(totsum)-1):\n",
    "        totsum[cnt+1]=totsum[cnt+1]+totsum[cnt]\n",
    "    df['Cumulative_icebergs_max']=totsum\n",
    "    df=convert_index_to_year(df)\n",
    "    return df\n",
    "\n",
    "def open_bergtiming_minus_traj_prep_and_write(thedir):\n",
    "    dbf=f'{thedir}globalAveTiming.db'\n",
    "    df = gfdlvitals.open_db(dbf)\n",
    "    df.drop(df.columns.difference(['Icebergs_max','Icebergs_traj_prepare_max','Icebergs_traj_write_max']), 1, inplace=True)\n",
    "    df['Icebergs_max']=df['Icebergs_max']-df['Icebergs_traj_prepare_max']-df['Icebergs_traj_write_max']\n",
    "    df.drop(df.columns.difference(['Icebergs_max']), 1, inplace=True)\n",
    "    totsum=df.Icebergs_max.copy()\n",
    "    for cnt in range(len(totsum)-1):\n",
    "        totsum[cnt+1]=totsum[cnt+1]+totsum[cnt]\n",
    "    df['Cumulative_icebergs_max']=totsum/60\n",
    "    df=convert_index_to_year(df)\n",
    "    return df"
   ]
  },
  {
   "cell_type": "code",
   "execution_count": 5,
   "id": "1ed4c925",
   "metadata": {
    "scrolled": true
   },
   "outputs": [
    {
     "name": "stdout",
     "output_type": "stream",
     "text": [
      "therun:  fl_l_scale_1e8youngs_eo_fixn_and_area_r/\n",
      "dbf:   /archive/aeh/notebooks/data/fl_l_scale_1e8youngs_eo_fixn_and_area_r/globalAveBergStats.db\n",
      "therun:  fl_l_scale_1e8youngs_nb_eo_fixn_and_area_r/\n",
      "dbf:   /archive/aeh/notebooks/data/fl_l_scale_1e8youngs_nb_eo_fixn_and_area_r/globalAveBergStats.db\n",
      "therun:  gladstone_bigg_fixnorth_r_78toend_b/\n",
      "dbf:   /archive/aeh/notebooks/data/gladstone_bigg_fixnorth_r_78toend_b/globalAveBergStats.db\n"
     ]
    },
    {
     "data": {
      "text/plain": [
       "Text(0, 0.5, 'mass (kg)')"
      ]
     },
     "execution_count": 5,
     "metadata": {},
     "output_type": "execute_result"
    },
    {
     "data": {
      "image/png": "[encoded data removed]",
      "text/plain": [
       "<Figure size 432x288 with 1 Axes>"
      ]
     },
     "metadata": {
      "needs_background": "light"
     },
     "output_type": "display_data"
    }
   ],
   "source": [
    "fig, ax = plt.subplots()\n",
    "runvec=[run1,run2,run3]\n",
    "for therun in runvec:\n",
    "    print('therun: ',therun)\n",
    "    df = open_bergstats(therun)\n",
    "    df.tot_berg_mass.plot()\n",
    "ax.legend(['E=100 MPa','E=100 MPa (newbergs)','Gladstone'])\n",
    "ax.set_title('total iceberg mass over time')\n",
    "ax.set_xlabel('time'); ax.set_ylabel('mass (kg)')"
   ]
  },
  {
   "cell_type": "code",
   "execution_count": 27,
   "id": "86e14703",
   "metadata": {},
   "outputs": [
    {
     "name": "stdout",
     "output_type": "stream",
     "text": [
      "dbf:   /archive/aeh/notebooks/data/fl_l_scale_1e8youngs_eo_fixn_and_area_r/globalAveBergStats.db\n",
      "dbf:   /archive/aeh/notebooks/data/fl_l_scale_1e8youngs_nb_eo_fixn_and_area_r/globalAveBergStats.db\n",
      "dbf:   /archive/aeh/notebooks/data/gladstone_bigg_fixnorth_r_78toend_b/globalAveBergStats.db\n"
     ]
    },
    {
     "data": {
      "text/plain": [
       "Text(0, 0.5, 'Number of icebergs')"
      ]
     },
     "execution_count": 27,
     "metadata": {},
     "output_type": "execute_result"
    },
    {
     "data": {
      "image/png": "[encoded data removed]",
      "text/plain": [
       "<Figure size 432x288 with 1 Axes>"
      ]
     },
     "metadata": {
      "needs_background": "light"
     },
     "output_type": "display_data"
    }
   ],
   "source": [
    "fig, ax = plt.subplots()\n",
    "runvec=[run1,run2,run3]\n",
    "mean_numbergs_vec=np.zeros(len(dirvec))\n",
    "k=0\n",
    "for therun in runvec:\n",
    "    df2 = open_bergstats(therun)\n",
    "    df2.num_bergs.plot()\n",
    "    mean_numbergs_vec[k]=df2['num_bergs'].mean()\n",
    "    k=k+1\n",
    "ax.legend(['E100_S.5','E100_S.5_nb','Gladstone'],bbox_to_anchor=(1.05, 1), loc='upper left', borderaxespad=0.)\n",
    "ax.set_xlabel('Year'); ax.set_ylabel('Number of icebergs')"
   ]
  },
  {
   "cell_type": "code",
   "execution_count": 28,
   "id": "1f423407",
   "metadata": {},
   "outputs": [
    {
     "data": {
      "text/plain": [
       "array([ 19854.56666667, 140636.33333333,  58816.13333333])"
      ]
     },
     "execution_count": 28,
     "metadata": {},
     "output_type": "execute_result"
    }
   ],
   "source": [
    "mean_numbergs_vec"
   ]
  },
  {
   "cell_type": "code",
   "execution_count": 25,
   "id": "b3f639da",
   "metadata": {
    "scrolled": false
   },
   "outputs": [
    {
     "data": {
      "text/plain": [
       "Text(0, 0.5, 'Computational time (s)')"
      ]
     },
     "execution_count": 25,
     "metadata": {},
     "output_type": "execute_result"
    },
    {
     "data": {
      "image/png": "[encoded data removed]",
      "text/plain": [
       "<Figure size 432x288 with 1 Axes>"
      ]
     },
     "metadata": {
      "needs_background": "light"
     },
     "output_type": "display_data"
    }
   ],
   "source": [
    "fig, ax = plt.subplots()\n",
    "meanvec=np.zeros(len(dirvec))\n",
    "k=0\n",
    "for thedir in dirvec:\n",
    "    df3 = open_bergtiming_minus_traj_prep_and_write(thedir)\n",
    "    df3.Icebergs_max.plot()\n",
    "    meanvec[k]=df3['Icebergs_max'].mean()\n",
    "    k=k+1\n",
    "ax.legend(['E100_S.5','E100_S.5_nb','Gladstone'],bbox_to_anchor=(1.05, 1), loc='upper left', borderaxespad=0.)\n",
    "ax.set_xlabel('Year'); ax.set_ylabel('Computational time (s)')"
   ]
  },
  {
   "cell_type": "code",
   "execution_count": 90,
   "id": "66e752db",
   "metadata": {
    "scrolled": true
   },
   "outputs": [
    {
     "data": {
      "text/plain": [
       "Text(0, 0.5, 'time (minutes)')"
      ]
     },
     "execution_count": 90,
     "metadata": {},
     "output_type": "execute_result"
    },
    {
     "data": {
      "image/png": "[encoded data removed]",
      "text/plain": [
       "<Figure size 432x288 with 1 Axes>"
      ]
     },
     "metadata": {
      "needs_background": "light"
     },
     "output_type": "display_data"
    }
   ],
   "source": [
    "fig, ax = plt.subplots()\n",
    "\n",
    "cum_maxvec=np.zeros(len(dirvec))\n",
    "k=0\n",
    "for thedir in dirvec:\n",
    "    df4 = open_bergtiming_minus_traj_prep_and_write(thedir)\n",
    "    df4.Cumulative_icebergs_max.plot()\n",
    "    cum_maxvec[k]=df4['Cumulative_icebergs_max'].max()\n",
    "    k=k+1\n",
    "ax.legend(['E=100 MPa','E=100 MPa (newbergs)','Gladstone'])\n",
    "ax.set_title('Cumulative iceberg computational time')\n",
    "ax.set_xlabel('time'); ax.set_ylabel('time (minutes)')"
   ]
  },
  {
   "cell_type": "markdown",
   "id": "a788540e",
   "metadata": {},
   "source": [
    "`Cumulative_icebergs_max` is plotted in minutes (by diving the 'seconds' result by 60)...\n",
    "Coincidently, we have a 60 year run, so that `cum_maxvec` should be equal to `meanvec`, up to floating point error, if we pretend that `cum_maxvec` is in 'seconds', not minutes."
   ]
  },
  {
   "cell_type": "code",
   "execution_count": 100,
   "id": "f8510fec",
   "metadata": {},
   "outputs": [
    {
     "data": {
      "text/plain": [
       "array([ 159.5809035 , 1477.33364147,  311.47979312])"
      ]
     },
     "execution_count": 100,
     "metadata": {},
     "output_type": "execute_result"
    }
   ],
   "source": [
    "cum_maxvec"
   ]
  },
  {
   "cell_type": "code",
   "execution_count": 101,
   "id": "933ca341",
   "metadata": {
    "scrolled": true
   },
   "outputs": [
    {
     "data": {
      "text/plain": [
       "array([ 159.5809035 , 1477.33364147,  311.47979312])"
      ]
     },
     "execution_count": 101,
     "metadata": {},
     "output_type": "execute_result"
    }
   ],
   "source": [
    "meanvec"
   ]
  },
  {
   "cell_type": "code",
   "execution_count": 102,
   "id": "4f11dfdd",
   "metadata": {
    "scrolled": false
   },
   "outputs": [
    {
     "data": {
      "text/plain": [
       "array([-2.84217094e-14,  4.54747351e-13, -1.13686838e-13])"
      ]
     },
     "execution_count": 102,
     "metadata": {},
     "output_type": "execute_result"
    }
   ],
   "source": [
    "cum_maxvec-meanvec"
   ]
  },
  {
   "cell_type": "markdown",
   "id": "0bf26d4e",
   "metadata": {},
   "source": [
    "How much faster is the grouping scheme?"
   ]
  },
  {
   "cell_type": "code",
   "execution_count": 112,
   "id": "0f51d200",
   "metadata": {},
   "outputs": [
    {
     "data": {
      "text/plain": [
       "array([ 2.65968173, 24.62222736,  5.19132989])"
      ]
     },
     "execution_count": 112,
     "metadata": {},
     "output_type": "execute_result"
    }
   ],
   "source": [
    "meanvec/60"
   ]
  },
  {
   "cell_type": "code",
   "execution_count": 103,
   "id": "0b832ba2",
   "metadata": {},
   "outputs": [
    {
     "data": {
      "text/plain": [
       "array([1.        , 9.25758414, 1.95186132])"
      ]
     },
     "execution_count": 103,
     "metadata": {},
     "output_type": "execute_result"
    }
   ],
   "source": [
    "meanvec/(meanvec.min())"
   ]
  },
  {
   "cell_type": "markdown",
   "id": "2273eb1d",
   "metadata": {},
   "source": [
    "The footloose grouping scheme (E100_S.5) is 9.26 times faster than when using the footloose new berg scheme (E100_S.5_nb) (2.7 minutes/year vs 24.6 minutes/year), and is 1.95 times faster than Gladstone alone (5.19 minutes/year)."
   ]
  }
 ],
 "metadata": {
  "kernelspec": {
   "display_name": "Python 3",
   "language": "python",
   "name": "python3"
  },
  "language_info": {
   "codemirror_mode": {
    "name": "ipython",
    "version": 3
   },
   "file_extension": ".py",
   "mimetype": "text/x-python",
   "name": "python",
   "nbconvert_exporter": "python",
   "pygments_lexer": "ipython3",
   "version": "3.8.8"
  }
 },
 "nbformat": 4,
 "nbformat_minor": 5
}
